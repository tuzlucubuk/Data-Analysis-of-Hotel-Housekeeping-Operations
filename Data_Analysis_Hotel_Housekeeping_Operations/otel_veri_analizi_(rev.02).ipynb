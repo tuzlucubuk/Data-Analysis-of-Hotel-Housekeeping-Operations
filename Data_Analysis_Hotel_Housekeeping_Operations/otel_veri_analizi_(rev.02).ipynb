{
 "cells": [
  {
   "cell_type": "code",
   "execution_count": 12,
   "id": "78108e75-c733-435b-b390-d3e51f95544b",
   "metadata": {},
   "outputs": [
    {
     "data": {
      "text/html": [
       "<div>\n",
       "<style scoped>\n",
       "    .dataframe tbody tr th:only-of-type {\n",
       "        vertical-align: middle;\n",
       "    }\n",
       "\n",
       "    .dataframe tbody tr th {\n",
       "        vertical-align: top;\n",
       "    }\n",
       "\n",
       "    .dataframe thead th {\n",
       "        text-align: right;\n",
       "    }\n",
       "</style>\n",
       "<table border=\"1\" class=\"dataframe\">\n",
       "  <thead>\n",
       "    <tr style=\"text-align: right;\">\n",
       "      <th></th>\n",
       "      <th>Tarih</th>\n",
       "      <th>Oda Numarası</th>\n",
       "      <th>Oda Tipi</th>\n",
       "      <th>Personel ID</th>\n",
       "      <th>Temizlik Türü</th>\n",
       "      <th>Giriş Saati</th>\n",
       "      <th>Çıkış Saati</th>\n",
       "    </tr>\n",
       "  </thead>\n",
       "  <tbody>\n",
       "    <tr>\n",
       "      <th>0</th>\n",
       "      <td>2024-01-01</td>\n",
       "      <td>165</td>\n",
       "      <td>Standart</td>\n",
       "      <td>P005</td>\n",
       "      <td>Rutin</td>\n",
       "      <td>08:48</td>\n",
       "      <td>08:56</td>\n",
       "    </tr>\n",
       "    <tr>\n",
       "      <th>1</th>\n",
       "      <td>2024-01-01</td>\n",
       "      <td>165</td>\n",
       "      <td>Standart</td>\n",
       "      <td>M002</td>\n",
       "      <td>Mini Bar</td>\n",
       "      <td>11:08</td>\n",
       "      <td>11:12</td>\n",
       "    </tr>\n",
       "    <tr>\n",
       "      <th>2</th>\n",
       "      <td>2024-01-01</td>\n",
       "      <td>108</td>\n",
       "      <td>Standart</td>\n",
       "      <td>P004</td>\n",
       "      <td>Rutin</td>\n",
       "      <td>08:14</td>\n",
       "      <td>08:23</td>\n",
       "    </tr>\n",
       "    <tr>\n",
       "      <th>3</th>\n",
       "      <td>2024-01-01</td>\n",
       "      <td>108</td>\n",
       "      <td>Standart</td>\n",
       "      <td>M002</td>\n",
       "      <td>Mini Bar</td>\n",
       "      <td>11:53</td>\n",
       "      <td>11:59</td>\n",
       "    </tr>\n",
       "    <tr>\n",
       "      <th>4</th>\n",
       "      <td>2024-01-01</td>\n",
       "      <td>131</td>\n",
       "      <td>Standart</td>\n",
       "      <td>P002</td>\n",
       "      <td>Rutin</td>\n",
       "      <td>08:42</td>\n",
       "      <td>08:56</td>\n",
       "    </tr>\n",
       "  </tbody>\n",
       "</table>\n",
       "</div>"
      ],
      "text/plain": [
       "        Tarih  Oda Numarası  Oda Tipi Personel ID Temizlik Türü Giriş Saati  \\\n",
       "0  2024-01-01           165  Standart        P005         Rutin       08:48   \n",
       "1  2024-01-01           165  Standart        M002      Mini Bar       11:08   \n",
       "2  2024-01-01           108  Standart        P004         Rutin       08:14   \n",
       "3  2024-01-01           108  Standart        M002      Mini Bar       11:53   \n",
       "4  2024-01-01           131  Standart        P002         Rutin       08:42   \n",
       "\n",
       "  Çıkış Saati  \n",
       "0       08:56  \n",
       "1       11:12  \n",
       "2       08:23  \n",
       "3       11:59  \n",
       "4       08:56  "
      ]
     },
     "execution_count": 12,
     "metadata": {},
     "output_type": "execute_result"
    }
   ],
   "source": [
    "import pandas as pd\n",
    "\n",
    "# CSV dosyasını okuyalım\n",
    "df = pd.read_csv(\"otel_temizlik_veriseti_2025-03-25_14-04-23.csv\")\n",
    "\n",
    "# Veri setinin ilk birkaç satırını ve sütun başlıklarını görüntüleyelim\n",
    "df.head()"
   ]
  },
  {
   "cell_type": "code",
   "execution_count": 14,
   "id": "f19a1c47-71b3-4658-bd48-12c464bad95a",
   "metadata": {},
   "outputs": [
    {
     "name": "stdout",
     "output_type": "stream",
     "text": [
      "<class 'pandas.core.frame.DataFrame'>\n",
      "RangeIndex: 309107 entries, 0 to 309106\n",
      "Data columns (total 7 columns):\n",
      " #   Column         Non-Null Count   Dtype \n",
      "---  ------         --------------   ----- \n",
      " 0   Tarih          309107 non-null  object\n",
      " 1   Oda Numarası   309107 non-null  int64 \n",
      " 2   Oda Tipi       309107 non-null  object\n",
      " 3   Personel ID    309107 non-null  object\n",
      " 4   Temizlik Türü  309107 non-null  object\n",
      " 5   Giriş Saati    309107 non-null  object\n",
      " 6   Çıkış Saati    309107 non-null  object\n",
      "dtypes: int64(1), object(6)\n",
      "memory usage: 16.5+ MB\n"
     ]
    }
   ],
   "source": [
    "df.info()"
   ]
  },
  {
   "cell_type": "code",
   "execution_count": 16,
   "id": "d653c0b3-e1e3-425e-9886-b428b37af1c0",
   "metadata": {},
   "outputs": [
    {
     "name": "stdout",
     "output_type": "stream",
     "text": [
      "<class 'pandas.core.frame.DataFrame'>\n",
      "RangeIndex: 309107 entries, 0 to 309106\n",
      "Data columns (total 7 columns):\n",
      " #   Column         Non-Null Count   Dtype         \n",
      "---  ------         --------------   -----         \n",
      " 0   Tarih          309107 non-null  datetime64[ns]\n",
      " 1   Oda Numarası   309107 non-null  int64         \n",
      " 2   Oda Tipi       309107 non-null  object        \n",
      " 3   Personel ID    309107 non-null  object        \n",
      " 4   Temizlik Türü  309107 non-null  object        \n",
      " 5   Giriş Saati    309107 non-null  object        \n",
      " 6   Çıkış Saati    309107 non-null  object        \n",
      "dtypes: datetime64[ns](1), int64(1), object(5)\n",
      "memory usage: 16.5+ MB\n"
     ]
    }
   ],
   "source": [
    "df['Tarih'] = pd.to_datetime(df['Tarih'])\n",
    "\n",
    "df['Giriş Saati'] = pd.to_datetime(df['Giriş Saati'], format='%H:%M').dt.time\n",
    "df['Çıkış Saati'] = pd.to_datetime(df['Çıkış Saati'], format='%H:%M').dt.time\n",
    "\n",
    "df.info()"
   ]
  },
  {
   "cell_type": "code",
   "execution_count": 18,
   "id": "68e9d6ec-7b60-416f-9e2f-e1fe75ac8c2c",
   "metadata": {},
   "outputs": [
    {
     "data": {
      "text/html": [
       "<div>\n",
       "<style scoped>\n",
       "    .dataframe tbody tr th:only-of-type {\n",
       "        vertical-align: middle;\n",
       "    }\n",
       "\n",
       "    .dataframe tbody tr th {\n",
       "        vertical-align: top;\n",
       "    }\n",
       "\n",
       "    .dataframe thead th {\n",
       "        text-align: right;\n",
       "    }\n",
       "</style>\n",
       "<table border=\"1\" class=\"dataframe\">\n",
       "  <thead>\n",
       "    <tr style=\"text-align: right;\">\n",
       "      <th></th>\n",
       "      <th>Tarih</th>\n",
       "      <th>Oda Numarası</th>\n",
       "      <th>Oda Tipi</th>\n",
       "      <th>Personel ID</th>\n",
       "      <th>Temizlik Türü</th>\n",
       "      <th>Giriş Saati</th>\n",
       "      <th>Çıkış Saati</th>\n",
       "    </tr>\n",
       "  </thead>\n",
       "  <tbody>\n",
       "    <tr>\n",
       "      <th>0</th>\n",
       "      <td>2024-01-01</td>\n",
       "      <td>165</td>\n",
       "      <td>Standart</td>\n",
       "      <td>P005</td>\n",
       "      <td>Rutin</td>\n",
       "      <td>08:48:00</td>\n",
       "      <td>08:56:00</td>\n",
       "    </tr>\n",
       "    <tr>\n",
       "      <th>1</th>\n",
       "      <td>2024-01-01</td>\n",
       "      <td>165</td>\n",
       "      <td>Standart</td>\n",
       "      <td>M002</td>\n",
       "      <td>Mini Bar</td>\n",
       "      <td>11:08:00</td>\n",
       "      <td>11:12:00</td>\n",
       "    </tr>\n",
       "    <tr>\n",
       "      <th>2</th>\n",
       "      <td>2024-01-01</td>\n",
       "      <td>108</td>\n",
       "      <td>Standart</td>\n",
       "      <td>P004</td>\n",
       "      <td>Rutin</td>\n",
       "      <td>08:14:00</td>\n",
       "      <td>08:23:00</td>\n",
       "    </tr>\n",
       "    <tr>\n",
       "      <th>3</th>\n",
       "      <td>2024-01-01</td>\n",
       "      <td>108</td>\n",
       "      <td>Standart</td>\n",
       "      <td>M002</td>\n",
       "      <td>Mini Bar</td>\n",
       "      <td>11:53:00</td>\n",
       "      <td>11:59:00</td>\n",
       "    </tr>\n",
       "    <tr>\n",
       "      <th>4</th>\n",
       "      <td>2024-01-01</td>\n",
       "      <td>131</td>\n",
       "      <td>Standart</td>\n",
       "      <td>P002</td>\n",
       "      <td>Rutin</td>\n",
       "      <td>08:42:00</td>\n",
       "      <td>08:56:00</td>\n",
       "    </tr>\n",
       "  </tbody>\n",
       "</table>\n",
       "</div>"
      ],
      "text/plain": [
       "       Tarih  Oda Numarası  Oda Tipi Personel ID Temizlik Türü Giriş Saati  \\\n",
       "0 2024-01-01           165  Standart        P005         Rutin    08:48:00   \n",
       "1 2024-01-01           165  Standart        M002      Mini Bar    11:08:00   \n",
       "2 2024-01-01           108  Standart        P004         Rutin    08:14:00   \n",
       "3 2024-01-01           108  Standart        M002      Mini Bar    11:53:00   \n",
       "4 2024-01-01           131  Standart        P002         Rutin    08:42:00   \n",
       "\n",
       "  Çıkış Saati  \n",
       "0    08:56:00  \n",
       "1    11:12:00  \n",
       "2    08:23:00  \n",
       "3    11:59:00  \n",
       "4    08:56:00  "
      ]
     },
     "execution_count": 18,
     "metadata": {},
     "output_type": "execute_result"
    }
   ],
   "source": [
    "df.head()"
   ]
  },
  {
   "cell_type": "code",
   "execution_count": 20,
   "id": "8f18ac48-fb73-43d4-9858-248a03c31085",
   "metadata": {},
   "outputs": [
    {
     "data": {
      "image/png": "[encoded data removed]",
      "text/plain": [
       "<Figure size 1000x500 with 1 Axes>"
      ]
     },
     "metadata": {},
     "output_type": "display_data"
    }
   ],
   "source": [
    "import matplotlib.pyplot as plt\n",
    "\n",
    "gunluk_temizlenen_oda_sayisi = df.groupby('Tarih')['Oda Numarası'].nunique().reset_index()\n",
    "gunluk_temizlenen_oda_sayisi.columns = ['Tarih', 'Günlük Temizlenen Oda Sayısı']\n",
    "gunluk_temizlenen_oda_sayisi['Ay'] = pd.to_datetime(gunluk_temizlenen_oda_sayisi['Tarih']).dt.to_period('M')\n",
    "\n",
    "aylik_ortalama_temizlik = (\n",
    "    gunluk_temizlenen_oda_sayisi.groupby('Ay')['Günlük Temizlenen Oda Sayısı'].mean().reset_index()\n",
    ")\n",
    "aylik_ortalama_temizlik.columns = ['Ay', 'Ortalama Günlük Temizlenen Oda Sayısı']\n",
    "\n",
    "# Grafiği oluşturma\n",
    "plt.figure(figsize=(10, 5))\n",
    "plt.bar(aylik_ortalama_temizlik[\"Ay\"].astype(str), aylik_ortalama_temizlik[\"Ortalama Günlük Temizlenen Oda Sayısı\"], color=\"skyblue\")\n",
    "\n",
    "# Grafik başlık ve etiketleri\n",
    "plt.title(\"2024 Yılı Aylık Ortalama Günlük Temizlenen Oda Sayısı\")\n",
    "plt.xlabel(\"Ay\")\n",
    "plt.ylabel(\"Ortalama Günlük Temizlenen Oda Sayısı\")\n",
    "plt.xticks(rotation=45)\n",
    "plt.grid(axis=\"y\", linestyle=\"--\", alpha=0.7)\n",
    "\n",
    "# Grafiği gösterme\n",
    "plt.show()\n"
   ]
  },
  {
   "cell_type": "code",
   "execution_count": 34,
   "id": "33e9fee5-b616-4767-9510-19122b680108",
   "metadata": {},
   "outputs": [
    {
     "data": {
      "text/html": [
       "<div>\n",
       "<style scoped>\n",
       "    .dataframe tbody tr th:only-of-type {\n",
       "        vertical-align: middle;\n",
       "    }\n",
       "\n",
       "    .dataframe tbody tr th {\n",
       "        vertical-align: top;\n",
       "    }\n",
       "\n",
       "    .dataframe thead th {\n",
       "        text-align: right;\n",
       "    }\n",
       "</style>\n",
       "<table border=\"1\" class=\"dataframe\">\n",
       "  <thead>\n",
       "    <tr style=\"text-align: right;\">\n",
       "      <th></th>\n",
       "      <th>Personel Tipi</th>\n",
       "      <th>Personel Sayısı</th>\n",
       "    </tr>\n",
       "  </thead>\n",
       "  <tbody>\n",
       "    <tr>\n",
       "      <th>0</th>\n",
       "      <td>Arıza Personeli</td>\n",
       "      <td>10</td>\n",
       "    </tr>\n",
       "    <tr>\n",
       "      <th>1</th>\n",
       "      <td>Mini Bar Görevlisi</td>\n",
       "      <td>32</td>\n",
       "    </tr>\n",
       "    <tr>\n",
       "      <th>2</th>\n",
       "      <td>Temizlik Personeli</td>\n",
       "      <td>90</td>\n",
       "    </tr>\n",
       "  </tbody>\n",
       "</table>\n",
       "</div>"
      ],
      "text/plain": [
       "        Personel Tipi  Personel Sayısı\n",
       "0     Arıza Personeli               10\n",
       "1  Mini Bar Görevlisi               32\n",
       "2  Temizlik Personeli               90"
      ]
     },
     "execution_count": 34,
     "metadata": {},
     "output_type": "execute_result"
    }
   ],
   "source": [
    "import pandas as pd\n",
    "\n",
    "# Çalışanları sınıflandırma\n",
    "df['Personel Tipi'] = df['Personel ID'].apply(lambda x: 'Arıza Personeli' if x.startswith('A') \n",
    "                                              else 'Temizlik Personeli' if x.startswith('P') \n",
    "                                              else 'Mini Bar Görevlisi' if x.startswith('M') \n",
    "                                              else 'Diğer')\n",
    "\n",
    "# Her personel tipinin kaç farklı çalışanı olduğunu hesaplayalım\n",
    "personel_sayilari = df.groupby('Personel Tipi')['Personel ID'].nunique().reset_index()\n",
    "personel_sayilari.columns = ['Personel Tipi', 'Personel Sayısı']\n",
    "\n",
    "# Tabloyu görüntüleyelim\n",
    "personel_sayilari.head()"
   ]
  },
  {
   "cell_type": "code",
   "execution_count": 28,
   "id": "e3d08d78-6451-42d5-86dd-588d2abd4fab",
   "metadata": {},
   "outputs": [
    {
     "data": {
      "image/png": "[encoded data removed]",
      "text/plain": [
       "<Figure size 800x600 with 1 Axes>"
      ]
     },
     "metadata": {},
     "output_type": "display_data"
    }
   ],
   "source": [
    "import matplotlib.pyplot as plt\n",
    "\n",
    "# Pasta grafiği oluşturma\n",
    "plt.figure(figsize=(8, 6))\n",
    "plt.pie(personel_sayilari[\"Personel Sayısı\"],\n",
    "        labels=personel_sayilari[\"Personel Tipi\"],\n",
    "        autopct='%1.1f%%',\n",
    "        startangle=140,\n",
    "        colors=plt.cm.Paired.colors)\n",
    "\n",
    "# Grafik başlığı\n",
    "plt.title(\"Otel Personel Dağılımı\")\n",
    "\n",
    "# Daireyi eşit yapmak için\n",
    "plt.axis('equal')\n",
    "\n",
    "# Grafiği gösterme\n",
    "plt.show()"
   ]
  },
  {
   "cell_type": "code",
   "execution_count": null,
   "id": "085a6656-0080-4b4f-90c9-02533746b686",
   "metadata": {},
   "outputs": [],
   "source": []
  }
 ],
 "metadata": {
  "kernelspec": {
   "display_name": "Python [conda env:base] *",
   "language": "python",
   "name": "conda-base-py"
  },
  "language_info": {
   "codemirror_mode": {
    "name": "ipython",
    "version": 3
   },
   "file_extension": ".py",
   "mimetype": "text/x-python",
   "name": "python",
   "nbconvert_exporter": "python",
   "pygments_lexer": "ipython3",
   "version": "3.12.7"
  }
 },
 "nbformat": 4,
 "nbformat_minor": 5
}
